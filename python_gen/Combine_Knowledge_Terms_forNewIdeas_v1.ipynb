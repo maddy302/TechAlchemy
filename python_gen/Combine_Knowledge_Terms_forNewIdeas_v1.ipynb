{
 "cells": [
  {
   "cell_type": "code",
   "execution_count": 2,
   "metadata": {
    "collapsed": true
   },
   "outputs": [],
   "source": [
    "# Given key words from subject A (CSV) and subject B (CSV), we can apply following pattern to generate new \n",
    "# sentences ideas.....\n",
    "# materials properties \n",
    "\n",
    "# Apply the process of A to B; Apply the process of B to A\n",
    "\n",
    "# The common point between A and B\n",
    "\n",
    "# The different point between A and B\n",
    "\n",
    "# A's properties is applied to make part of B, vice versa.\n",
    "\n",
    "# A and B and C, e.g., aircarft carrier = airport + airplane storage + ship, soundnavigationandrange = sonar, \n",
    "# 航母=艦船+機庫+跑道。 鋼筋混凝土\n",
    "#Aircraft carrier = ship + hangar + runway. RC\n",
    "\n",
    "# CSV_Key_Computer_Science_v1, CSV_Physics, CSV_Properties\n",
    "\n",
    "\n"
   ]
  },
  {
   "cell_type": "code",
   "execution_count": 1,
   "metadata": {
    "collapsed": false
   },
   "outputs": [
    {
     "name": "stdout",
     "output_type": "stream",
     "text": [
      "Accounts receivable\n",
      "    Abandoned Baby Pattern\n",
      "    ABEND: Abnormal End of Task \n",
      "access point\n",
      "    Bait and bleed\n",
      "    Absolute magnitude \n",
      "    Sound reflection\n",
      "    10 Schools of Thought\n",
      "Eagle Keeper\n",
      "Adhan\n"
     ]
    }
   ],
   "source": [
    "import csv\n",
    "from random import randint \n",
    "# CSV_Banking_Finance_Insurance\n",
    "\n",
    "with open('CSV_Accounting.csv', 'r') as f:\n",
    "    reader = csv.reader(f)\n",
    "    Key_Accounting_list = list(reader)\n",
    "\n",
    "print(Key_Accounting_list[3][0])\n",
    "\n",
    "with open('CSV_Banking_Finance_Insurance.csv', 'r') as f:\n",
    "    reader = csv.reader(f)\n",
    "    Key_Banking_Finance_Insurance_list = list(reader)\n",
    "\n",
    "print(Key_Banking_Finance_Insurance_list[3][0])\n",
    "\n",
    "with open('CSV_Computer_Science.csv', 'r') as f:\n",
    "    reader = csv.reader(f)\n",
    "    Key_Computer_Science_list = list(reader)\n",
    "\n",
    "print(Key_Computer_Science_list[3][0])\n",
    "\n",
    "\n",
    "with open('CSV_Information_Management.csv', 'r') as f:\n",
    "    reader = csv.reader(f)\n",
    "    Key_Information_Management_list = list(reader)\n",
    "\n",
    "print(Key_Information_Management_list[3][0])\n",
    "\n",
    "with open('CSV_Physics.csv', 'r') as f:\n",
    "    reader = csv.reader(f)\n",
    "    Key_Physics_list = list(reader)\n",
    "\n",
    "with open('CSV_Political_Science.csv', 'r') as f:\n",
    "    reader = csv.reader(f)\n",
    "    Key_Political_Science_list = list(reader)\n",
    "\n",
    "print(Key_Political_Science_list[3][0])\n",
    "\n",
    "print(Key_Physics_list[3][0])\n",
    "\n",
    "with open('CSV_Properties.csv', 'r') as f:\n",
    "    reader = csv.reader(f)\n",
    "    Key_Properties_list = list(reader)\n",
    "\n",
    "print(Key_Properties_list[3][0])\n",
    "\n",
    "with open('CSV_Management_Science.csv', 'r') as f:\n",
    "    reader = csv.reader(f)\n",
    "    Key_Management_Science_list = list(reader)\n",
    "\n",
    "print(Key_Management_Science_list[3][0])\n",
    "\n",
    "with open('CSV_Military.csv', 'r') as f:\n",
    "    reader = csv.reader(f)\n",
    "    Key_Military_list = list(reader)\n",
    "\n",
    "print(Key_Military_list[3][0])\n",
    "\n",
    "\n",
    "with open('CSV_Religions.csv', 'r') as f:\n",
    "    reader = csv.reader(f)\n",
    "    Key_Religions_list = list(reader)\n",
    "\n",
    "print(Key_Religions_list[3][0])\n",
    "\n"
   ]
  },
  {
   "cell_type": "code",
   "execution_count": 2,
   "metadata": {
    "collapsed": false
   },
   "outputs": [
    {
     "name": "stdout",
     "output_type": "stream",
     "text": [
      "142\n",
      "3929\n",
      "1288\n",
      "596\n",
      "573\n",
      "177\n",
      "125\n",
      "2125\n",
      "151\n",
      "688\n"
     ]
    }
   ],
   "source": [
    "print(len(Key_Accounting_list))\n",
    "print(len(Key_Banking_Finance_Insurance_list))\n",
    "print(len(Key_Computer_Science_list))\n",
    "print(len(Key_Information_Management_list))\n",
    "print(len(Key_Physics_list))\n",
    "print(len(Key_Political_Science_list))\n",
    "print(len(Key_Properties_list))\n",
    "print(len(Key_Management_Science_list))\n",
    "print(len(Key_Military_list))\n",
    "print(len(Key_Religions_list))"
   ]
  },
  {
   "cell_type": "markdown",
   "metadata": {},
   "source": [
    "## Random Index Generation"
   ]
  },
  {
   "cell_type": "code",
   "execution_count": 3,
   "metadata": {
    "collapsed": false
   },
   "outputs": [
    {
     "name": "stdout",
     "output_type": "stream",
     "text": [
      "7\n",
      "3072\n",
      "188\n",
      "62\n",
      "80\n",
      "156\n",
      "22\n",
      "1367\n",
      "16\n",
      "479\n"
     ]
    }
   ],
   "source": [
    "random_index_Accounting = randint(0, len(Key_Accounting_list))\n",
    "print(random_index_Accounting)\n",
    "\n",
    "random_index_Banking_Finance_Insurance = randint(0, len(Key_Banking_Finance_Insurance_list))\n",
    "print(random_index_Banking_Finance_Insurance)\n",
    "\n",
    "random_index_Computer_Science = randint(0, len(Key_Computer_Science_list))\n",
    "print(random_index_Computer_Science)\n",
    "\n",
    "random_index_Information_Management = randint(0, len(Key_Information_Management_list))\n",
    "print(random_index_Information_Management)\n",
    "\n",
    "random_index_Physics = randint(0, len(Key_Physics_list))\n",
    "print(random_index_Physics)\n",
    "\n",
    "random_index_Political_Science = randint(0, len(Key_Political_Science_list))\n",
    "print(random_index_Political_Science)\n",
    "\n",
    "random_index_Properties = randint(0, len(Key_Properties_list))\n",
    "print(random_index_Properties)\n",
    "\n",
    "random_index_Management_Science = randint(0, len(Key_Management_Science_list))\n",
    "print(random_index_Management_Science)\n",
    "\n",
    "random_index_Military = randint(0, len(Key_Military_list))\n",
    "print(random_index_Military)\n",
    "\n",
    "random_index_Religions = randint(0, len(Key_Religions_list))\n",
    "print(random_index_Religions)"
   ]
  },
  {
   "cell_type": "code",
   "execution_count": 4,
   "metadata": {
    "collapsed": false
   },
   "outputs": [
    {
     "name": "stdout",
     "output_type": "stream",
     "text": [
      "    Telepathy\n",
      "    Direct sales/ direct response\n",
      "Klicks\n"
     ]
    }
   ],
   "source": [
    "# Given two domain, response each domain random key word \n",
    "subject_dict = {1: Key_Accounting_list, 2: Key_Computer_Science_list, \\\n",
    "                3: Key_Information_Management_list, 4: Key_Physics_list,\\\n",
    "                5: Key_Political_Science_list, 6: Key_Properties_list,\\\n",
    "                7: Key_Banking_Finance_Insurance_list, 8: Key_Management_Science_list,\\\n",
    "                9: Key_Military_list, 10: Key_Religions_list}\n",
    "\n",
    "subject_list = [10, 7, 9]\n",
    "def random_topics_generation(subject_list):\n",
    "    for i in range(0, len(subject_list)):\n",
    "        random_index = randint(0, len(subject_dict[subject_list[i]]))\n",
    "        tmp_list = subject_dict[subject_list[i]]\n",
    "        print(tmp_list[random_index][0])                        \n",
    "\n",
    "  \n",
    "random_topics_generation(subject_list)\n"
   ]
  },
  {
   "cell_type": "code",
   "execution_count": 5,
   "metadata": {
    "collapsed": false
   },
   "outputs": [
    {
     "name": "stdout",
     "output_type": "stream",
     "text": [
      "Apply the process of     Computer Animation  in Computer Science to Prayer  in Religions\n",
      "Apply the process of Prayer  in Religions to     Computer Animation  in Computer Science\n",
      "Apply the concept of     Halo in Religions to     4 Dimensions of Relational Work in Management Science\n",
      "Apply the concept of     4 Dimensions of Relational Work in Management Science to     Halo in Religions\n"
     ]
    }
   ],
   "source": [
    "# Given two domain, response each domain random key word \n",
    "subject_dict = {1: Key_Accounting_list, 2: Key_Computer_Science_list, \\\n",
    "                3: Key_Information_Management_list, 4: Key_Physics_list,\\\n",
    "                5: Key_Political_Science_list, 6: Key_Properties_list,\\\n",
    "                7: Key_Banking_Finance_Insurance_list, 8: Key_Management_Science_list, \\\n",
    "                9: Key_Military_list, 10: Key_Religions_list}\n",
    "\n",
    "subject_department_dict = {1: 'Accounting', 2: 'Computer Science', \\\n",
    "                3: 'Information Management', 4: 'Physics',\\\n",
    "                5: 'Political Science', 6: 'Properties',\\\n",
    "                7: 'Banking, Finance, Insurance', 8: 'Management Science', \n",
    "                9: 'Military', 10: 'Religions'}\n",
    "\n",
    "subject_list = [2,10]\n",
    "\n",
    "def Apply_the_process_A_to_B(subject_list):\n",
    "    topics=[]\n",
    "    for i in range(0, len(subject_list)):\n",
    "        random_index = randint(0, len(subject_dict[subject_list[i]]))\n",
    "        tmp_list = subject_dict[subject_list[i]]\n",
    "        topics.append(tmp_list[random_index][0])\n",
    "    return topics\n",
    "        \n",
    "topics = Apply_the_process_A_to_B(subject_list)\n",
    "print(\"Apply the process of \" + topics[0] + \" in \" + subject_department_dict[subject_list[0]]\\\n",
    "      + \" to \" + topics[1] + \" in \" + subject_department_dict[subject_list[1]] )\n",
    "\n",
    "print(\"Apply the process of \" + topics[1] + \" in \" + subject_department_dict[subject_list[1]]\\\n",
    "      + \" to \" + topics[0] + \" in \" + subject_department_dict[subject_list[0]] )\n",
    "\n",
    "subject_list = [10,8]\n",
    "\n",
    "def Apply_the_concept_A_to_B(subject_list):\n",
    "    topics=[]\n",
    "    for i in range(0, len(subject_list)):\n",
    "        random_index = randint(0, len(subject_dict[subject_list[i]]))\n",
    "        tmp_list = subject_dict[subject_list[i]]\n",
    "        topics.append(tmp_list[random_index][0])\n",
    "    return topics\n",
    "     \n",
    "topics = Apply_the_concept_A_to_B(subject_list)\n",
    "print(\"Apply the concept of \" + topics[0] + \" in \" + subject_department_dict[subject_list[0]]\\\n",
    "      + \" to \" + topics[1] + \" in \" + subject_department_dict[subject_list[1]] )\n",
    "\n",
    "print(\"Apply the concept of \" + topics[1] + \" in \" + subject_department_dict[subject_list[1]]\\\n",
    "      + \" to \" + topics[0] + \" in \" + subject_department_dict[subject_list[0]] )\n",
    "\n",
    " "
   ]
  },
  {
   "cell_type": "code",
   "execution_count": 6,
   "metadata": {
    "collapsed": false
   },
   "outputs": [
    {
     "name": "stdout",
     "output_type": "stream",
     "text": [
      "Any common things among ['    Critical Section ', '    Rightful resistance', '    Contacts Manager'] from  department ['Computer Science', 'Political Science', 'Management Science']\n",
      "Any different things among ['Akhlaq', '    Return of capital', 'Kinetic'] from  department ['Religions', 'Banking, Finance, Insurance', 'Military']\n"
     ]
    }
   ],
   "source": [
    "# Given two domain, response each domain random key word \n",
    "subject_dict = {1: Key_Accounting_list, 2: Key_Computer_Science_list, \\\n",
    "                3: Key_Information_Management_list, 4: Key_Physics_list,\\\n",
    "                5: Key_Political_Science_list, 6: Key_Properties_list,\\\n",
    "                7: Key_Banking_Finance_Insurance_list, 8: Key_Management_Science_list, \\\n",
    "                9: Key_Military_list, 10: Key_Religions_list}\n",
    "\n",
    "\n",
    "subject_department_dict = {1: 'Accounting', 2: 'Computer Science', \\\n",
    "                3: 'Information Management', 4: 'Physics',\\\n",
    "                5: 'Political Science', 6: 'Properties',\\\n",
    "                7: 'Banking, Finance, Insurance', 8: 'Management Science', \n",
    "                9: 'Military', 10: 'Religions'}\n",
    "\n",
    "\n",
    "subject_list = [2, 5, 8]\n",
    "\n",
    "def Any_common_things_among(subject_list):\n",
    "    topics=[]\n",
    "    for i in range(0, len(subject_list)):\n",
    "        random_index = randint(0, len(subject_dict[subject_list[i]]))\n",
    "        tmp_list = subject_dict[subject_list[i]]\n",
    "        topics.append(tmp_list[random_index][0])\n",
    "    return topics\n",
    "        \n",
    "topics = Any_common_things_among(subject_list)\n",
    "topics_department = [subject_department_dict[subject_list[i]] for i in range(len(subject_list))]\n",
    "print(\"Any common things among \" + str(topics) + ' from  department ' + str(topics_department))\n",
    "\n",
    "subject_list = [10, 7, 9]\n",
    "\n",
    "def Any_different_things_among(subject_list):\n",
    "    topics=[]\n",
    "    for i in range(0, len(subject_list)):\n",
    "        random_index = randint(0, len(subject_dict[subject_list[i]]))\n",
    "        tmp_list = subject_dict[subject_list[i]]\n",
    "        topics.append(tmp_list[random_index][0])\n",
    "    return topics\n",
    "        \n",
    "topics = Any_different_things_among(subject_list)\n",
    "topics_department = [subject_department_dict[subject_list[i]] for i in range(len(subject_list))]\n",
    "print(\"Any different things among \" + str(topics) + ' from  department ' + str(topics_department))\n"
   ]
  },
  {
   "cell_type": "markdown",
   "metadata": {},
   "source": [
    "### A's properties are applied to make part of B, vice versa."
   ]
  },
  {
   "cell_type": "code",
   "execution_count": 7,
   "metadata": {
    "collapsed": false
   },
   "outputs": [
    {
     "name": "stdout",
     "output_type": "stream",
     "text": [
      "    Specific weight,    Coefficient of restitution\n",
      "Fard properties:     Specific weight,    Coefficient of restitution; are applied to make part of     News Aggregator \n",
      "    News Aggregator  properties:     Specific weight,    Coefficient of restitution; are applied to make part of Fard\n"
     ]
    }
   ],
   "source": [
    "properties_num = 2\n",
    "with open('CSV_Properties.csv', 'r') as f:\n",
    "    reader = csv.reader(f)\n",
    "    Key_Properties_list = list(reader)\n",
    "\n",
    "properties = []\n",
    "for i in range(properties_num):\n",
    "    random_index_properties = randint(0, len(Key_Properties_list))\n",
    "    #print(random_index_properties)\n",
    "    properties.append(Key_Properties_list[random_index_properties][0])\n",
    "    \n",
    "properties_string = \",\".join(properties)\n",
    "print(properties_string)\n",
    "\n",
    "subject_dict = {1: Key_Accounting_list, 2: Key_Computer_Science_list, \\\n",
    "                3: Key_Information_Management_list, 4: Key_Physics_list,\\\n",
    "                5: Key_Political_Science_list, 6: Key_Properties_list,\\\n",
    "                7: Key_Banking_Finance_Insurance_list, 8: Key_Management_Science_list, \\\n",
    "                9: Key_Military_list, 10: Key_Religions_list}\n",
    "\n",
    "\n",
    "subject_list = [10,2]\n",
    "\n",
    "def A_properties_applied_to_make_part_of_B(subject_list):\n",
    "    topics=[]\n",
    "    for i in range(0, len(subject_list)):\n",
    "        random_index = randint(0, len(subject_dict[subject_list[i]]))\n",
    "        tmp_list = subject_dict[subject_list[i]]\n",
    "        topics.append(tmp_list[random_index][0])\n",
    "    return topics\n",
    "        \n",
    "topics = A_properties_applied_to_make_part_of_B(subject_list)\n",
    "\n",
    "\n",
    "\n",
    "print(topics[0] + \" properties: \"  + properties_string +  \\\n",
    "     \"; are applied to make part of \" + topics[1])\n",
    "\n",
    "print(topics[1] + \" properties: \"  + properties_string +  \\\n",
    "     \"; are applied to make part of \" + topics[0])\n",
    "\n"
   ]
  },
  {
   "cell_type": "markdown",
   "metadata": {},
   "source": [
    "### A and B and C, e.g., aircarft carrier = airport + airplane storage + ship, soundnavigationandrange = sonar, \n",
    "### 航母=艦船+機庫+跑道。 鋼筋混凝土"
   ]
  },
  {
   "cell_type": "code",
   "execution_count": 8,
   "metadata": {
    "collapsed": false
   },
   "outputs": [
    {
     "name": "stdout",
     "output_type": "stream",
     "text": [
      "Combining these things: ['Prospectus', '    Synoecism', 'Christ '] to invent new object.\n"
     ]
    }
   ],
   "source": [
    "subject_dict = {1: Key_Accounting_list, 2: Key_Computer_Science_list, \\\n",
    "                3: Key_Information_Management_list, 4: Key_Physics_list,\\\n",
    "                5: Key_Political_Science_list, 6: Key_Properties_list,\\\n",
    "                7: Key_Banking_Finance_Insurance_list, 8: Key_Management_Science_list, \\\n",
    "                9: Key_Military_list, 10: Key_Religions_list}\n",
    "\n",
    "subject_list = [1,5,10]\n",
    "\n",
    "def Combining_these_things_to_invent(subject_list):\n",
    "    topics=[]\n",
    "    for i in range(0, len(subject_list)):\n",
    "        random_index = randint(0, len(subject_dict[subject_list[i]]))\n",
    "        tmp_list = subject_dict[subject_list[i]]\n",
    "        topics.append(tmp_list[random_index][0])\n",
    "    return topics\n",
    "        \n",
    "topics = Combining_these_things_to_invent(subject_list)\n",
    "print(\"Combining these things: \" + str(topics) + \" to invent new object.\" )\n",
    "\n"
   ]
  },
  {
   "cell_type": "markdown",
   "metadata": {},
   "source": [
    "## Can we improve ?"
   ]
  },
  {
   "cell_type": "code",
   "execution_count": 9,
   "metadata": {
    "collapsed": false
   },
   "outputs": [
    {
     "name": "stdout",
     "output_type": "stream",
     "text": [
      "Can we improve:     Best Practices, by time, cost, complexity, capability, clarity, completeness, or application domains, etc? \n"
     ]
    }
   ],
   "source": [
    "subject_dict = {1: Key_Accounting_list, 2: Key_Computer_Science_list, \\\n",
    "                3: Key_Information_Management_list, 4: Key_Physics_list,\\\n",
    "                5: Key_Political_Science_list, 6: Key_Properties_list,\\\n",
    "                7: Key_Banking_Finance_Insurance_list, 8: Key_Management_Science_list, \\\n",
    "                9: Key_Military_list, 10: Key_Religions_list}\n",
    "\n",
    "subject_list = [8]\n",
    "\n",
    "def Can_we_improve(subject_list):\n",
    "    topics=[]\n",
    "    for i in range(0, len(subject_list)):\n",
    "        random_index = randint(0, len(subject_dict[subject_list[i]]))\n",
    "        tmp_list = subject_dict[subject_list[i]]\n",
    "        topics.append(tmp_list[random_index][0])\n",
    "    return topics\n",
    "        \n",
    "topics = Can_we_improve(subject_list)\n",
    "print(\"Can we improve: \" + topics[0] + \", by time, cost, complexity, capability, clarity, completeness, or application domains, etc? \")"
   ]
  },
  {
   "cell_type": "code",
   "execution_count": null,
   "metadata": {
    "collapsed": true
   },
   "outputs": [],
   "source": []
  },
  {
   "cell_type": "markdown",
   "metadata": {},
   "source": [
    "## If there is no..., what will happen? How life and world be changed? "
   ]
  },
  {
   "cell_type": "code",
   "execution_count": 10,
   "metadata": {
    "collapsed": false
   },
   "outputs": [
    {
     "name": "stdout",
     "output_type": "stream",
     "text": [
      "If there is no: Crucifix , what will happen? How life and world will be changed? \n"
     ]
    }
   ],
   "source": [
    "subject_dict = {1: Key_Accounting_list, 2: Key_Computer_Science_list, \\\n",
    "                3: Key_Information_Management_list, 4: Key_Physics_list,\\\n",
    "                5: Key_Political_Science_list, 6: Key_Properties_list,\\\n",
    "                7: Key_Banking_Finance_Insurance_list, 8: Key_Management_Science_list, \\\n",
    "                9: Key_Military_list, 10: Key_Religions_list}\n",
    "\n",
    "subject_list = [10]\n",
    "\n",
    "def If_there_is_no(subject_list):\n",
    "    topics=[]\n",
    "    for i in range(0, len(subject_list)):\n",
    "        random_index = randint(0, len(subject_dict[subject_list[i]]))\n",
    "        tmp_list = subject_dict[subject_list[i]]\n",
    "        topics.append(tmp_list[random_index][0])\n",
    "    return topics\n",
    "        \n",
    "topics = If_there_is_no(subject_list)\n",
    "print(\"If there is no: \" + topics[0] + \", what will happen? How life and world will be changed? \")"
   ]
  },
  {
   "cell_type": "code",
   "execution_count": null,
   "metadata": {
    "collapsed": true
   },
   "outputs": [],
   "source": []
  },
  {
   "cell_type": "code",
   "execution_count": null,
   "metadata": {
    "collapsed": true
   },
   "outputs": [],
   "source": []
  },
  {
   "cell_type": "code",
   "execution_count": null,
   "metadata": {
    "collapsed": true
   },
   "outputs": [],
   "source": []
  }
 ],
 "metadata": {
  "anaconda-cloud": {},
  "kernelspec": {
   "display_name": "Python [default]",
   "language": "python",
   "name": "python2"
  },
  "language_info": {
   "codemirror_mode": {
    "name": "ipython",
    "version": 2
   },
   "file_extension": ".py",
   "mimetype": "text/x-python",
   "name": "python",
   "nbconvert_exporter": "python",
   "pygments_lexer": "ipython2",
   "version": "2.7.12"
  }
 },
 "nbformat": 4,
 "nbformat_minor": 2
}
