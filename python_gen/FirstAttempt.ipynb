{
 "cells": [
  {
   "cell_type": "code",
   "execution_count": 1,
   "metadata": {
    "collapsed": false
   },
   "outputs": [
    {
     "name": "stdout",
     "output_type": "stream",
     "text": [
      "hello world\n"
     ]
    }
   ],
   "source": [
    "print('hello world');"
   ]
  },
  {
   "cell_type": "code",
   "execution_count": 2,
   "metadata": {
    "collapsed": true
   },
   "outputs": [],
   "source": [
    "name='Maddy';"
   ]
  },
  {
   "cell_type": "code",
   "execution_count": 3,
   "metadata": {
    "collapsed": false,
    "scrolled": true
   },
   "outputs": [
    {
     "data": {
      "text/plain": [
       "'Maddy'"
      ]
     },
     "execution_count": 3,
     "metadata": {},
     "output_type": "execute_result"
    }
   ],
   "source": [
    "name"
   ]
  },
  {
   "cell_type": "code",
   "execution_count": 4,
   "metadata": {
    "collapsed": true
   },
   "outputs": [],
   "source": [
    "name = 'Madhuka'"
   ]
  },
  {
   "cell_type": "code",
   "execution_count": 5,
   "metadata": {
    "collapsed": false,
    "scrolled": true
   },
   "outputs": [
    {
     "name": "stdout",
     "output_type": "stream",
     "text": [
      "effective java\n",
      "Effective Java\n",
      "EFFECTIVE JAVA\n",
      "effective java\n",
      "Madhukar Bs\n"
     ]
    }
   ],
   "source": [
    "title = \"effective java\"\n",
    "first_name = 'Madhukar'\n",
    "last_name = 'BS'\n",
    "print title\n",
    "print title.title()\n",
    "print title.upper()\n",
    "print title.lower()\n",
    "print (first_name+' '+last_name).title()"
   ]
  },
  {
   "cell_type": "markdown",
   "metadata": {},
   "source": [
    "title() is to conver the string into a appropriate title format - similar to camel casing\n",
    "upper to uppercase, lower to lowercase"
   ]
  },
  {
   "cell_type": "code",
   "execution_count": 6,
   "metadata": {
    "collapsed": false
   },
   "outputs": [
    {
     "name": "stdout",
     "output_type": "stream",
     "text": [
      " python\n",
      "python  \n",
      "python\n"
     ]
    }
   ],
   "source": [
    "language = ' python  '\n",
    "language\n",
    "print language.rstrip()\n",
    "print language.lstrip()\n",
    "print language.strip()"
   ]
  },
  {
   "cell_type": "markdown",
   "metadata": {},
   "source": [
    "rstrip removes spaces from right end, lstrip from left end, strip from both ends.\n",
    "Textbook Excercise below"
   ]
  },
  {
   "cell_type": "code",
   "execution_count": 7,
   "metadata": {
    "collapsed": false
   },
   "outputs": [
    {
     "name": "stdout",
     "output_type": "stream",
     "text": [
      "2-3. \"Hello Madhukar BS,would you like to learn some python today?\"\n",
      "2-4.\n",
      "Madhukar Bs\n",
      "MADHUKAR BS\n",
      "madhukar bs\n",
      "\n",
      "2-5.\n",
      "Albert Einstein once said, \"A person wh never made a mistake has never tried anything new.\"\n",
      "\n",
      "2-6.\n",
      "Madhukar Bs once said, \"A person wh never made a mistake has never tried anything new.\"\n",
      "\n",
      "2-7.\n",
      "\tpython  \n",
      "\tpython\n",
      "python  \n",
      "python\n"
     ]
    }
   ],
   "source": [
    "print ('2-3. \"Hello '+first_name+' '+last_name+','+'would you like to learn some python today?\"')\n",
    "print ('2-4.')\n",
    "print (first_name+' '+last_name).title()\n",
    "print (first_name+' '+last_name).upper()\n",
    "print (first_name+' '+last_name).lower()\n",
    "print\n",
    "print ('2-5.')\n",
    "print ('Albert Einstein once said, \"A person wh never made a mistake has never tried anything new.\"')\n",
    "print\n",
    "print ('2-6.')\n",
    "famous_person = first_name+' '+last_name\n",
    "msg = famous_person.title()+' once said, \"A person wh never made a mistake has never tried anything new.\"'\n",
    "print msg\n",
    "\n",
    "print\n",
    "print ('2-7.')\n",
    "\n",
    "language = '\\tpython  '\n",
    "print language\n",
    "print language.rstrip()\n",
    "print language.lstrip()\n",
    "print language.strip()"
   ]
  },
  {
   "cell_type": "code",
   "execution_count": 8,
   "metadata": {
    "collapsed": false,
    "scrolled": true
   },
   "outputs": [
    {
     "name": "stdout",
     "output_type": "stream",
     "text": [
      "9\n",
      "3.02\n",
      "3.33333333333\n"
     ]
    }
   ],
   "source": [
    "print 3**2 #exponent \n",
    "print 3+0.02\n",
    "print 10.0/3\n"
   ]
  },
  {
   "cell_type": "code",
   "execution_count": 9,
   "metadata": {
    "collapsed": false
   },
   "outputs": [
    {
     "name": "stdout",
     "output_type": "stream",
     "text": [
      "You are 23 old\n"
     ]
    }
   ],
   "source": [
    "age = 23\n",
    " #this is a type cast error, python will interpret \"You are \"+ age + \" old\" you are as an integer. \n",
    "msg = \"You are \"+ str(age) + \" old\" #str() will convert the data into string type\n",
    "print msg "
   ]
  },
  {
   "cell_type": "markdown",
   "metadata": {},
   "source": [
    "2-8. Number Eight: Write addition, subtraction, multiplication, and division \n",
    "operations that each result in the number 8 . Be sure to enclose your operations \n",
    "in print statements to see the results . You should create four lines that look \n",
    "like this:\n",
    "print(5 + 3)\n",
    "Your output should simply be four lines with the number 8 appearing once \n",
    "on each line .\n",
    "2-9. Favorite Number: Store your favorite number in a variable . Then, using \n",
    "that variable, create a message that reveals your favorite number . Print that \n",
    "message ."
   ]
  },
  {
   "cell_type": "code",
   "execution_count": 10,
   "metadata": {
    "collapsed": false
   },
   "outputs": [
    {
     "name": "stdout",
     "output_type": "stream",
     "text": [
      "____________________________\n",
      "5+3 = 8\n",
      "____________________________\n",
      "4*2 = 8\n",
      "____________________________\n",
      "8/1 = 8\n",
      "____________________________\n",
      "10-2 = 8\n",
      "____________________________\n",
      "2**3 = 8\n",
      "____________________________\n",
      "\n",
      "My favourite number is 27\n",
      "The Zen of Python, by Tim Peters\n",
      "\n",
      "Beautiful is better than ugly.\n",
      "Explicit is better than implicit.\n",
      "Simple is better than complex.\n",
      "Complex is better than complicated.\n",
      "Flat is better than nested.\n",
      "Sparse is better than dense.\n",
      "Readability counts.\n",
      "Special cases aren't special enough to break the rules.\n",
      "Although practicality beats purity.\n",
      "Errors should never pass silently.\n",
      "Unless explicitly silenced.\n",
      "In the face of ambiguity, refuse the temptation to guess.\n",
      "There should be one-- and preferably only one --obvious way to do it.\n",
      "Although that way may not be obvious at first unless you're Dutch.\n",
      "Now is better than never.\n",
      "Although never is often better than *right* now.\n",
      "If the implementation is hard to explain, it's a bad idea.\n",
      "If the implementation is easy to explain, it may be a good idea.\n",
      "Namespaces are one honking great idea -- let's do more of those!\n"
     ]
    }
   ],
   "source": [
    "print '____________________________'\n",
    "print '5+3'+ ' = '+str(5+3)\n",
    "print '____________________________'\n",
    "print '4*2 = '+str(4*2)\n",
    "print '____________________________'\n",
    "print '8/1 = '+str(8/1)\n",
    "print '____________________________'\n",
    "print '10-2 = '+str(10-2)\n",
    "print '____________________________'\n",
    "print '2**3 = '+str(2**3)\n",
    "print '____________________________'\n",
    "\n",
    "fav_number = 27\n",
    "print\n",
    "print (\"My favourite number is \"+ str(fav_number))\n",
    "\n",
    "import this"
   ]
  },
  {
   "cell_type": "code",
   "execution_count": 11,
   "metadata": {
    "collapsed": false
   },
   "outputs": [
    {
     "name": "stdout",
     "output_type": "stream",
     "text": [
      "[1, 2, 3, 4, 5]\n",
      "5\n",
      "1\n"
     ]
    }
   ],
   "source": [
    "int_list = [1 , 2, 3, 4, 5]\n",
    "print int_list\n",
    "print int_list[-1] #python has a special index, index -1 represents the last element\n",
    "print int_list[-5]"
   ]
  },
  {
   "cell_type": "raw",
   "metadata": {},
   "source": [
    "Try these short programs to get some firsthand experience with Python’s lists . \n",
    "You might want to create a new folder for each chapter’s exercises to keep \n",
    "them organized .\n",
    "3-1. Names: Store the names of a few of your friends in a list called names . Print \n",
    "each person’s name by accessing each element in the list, one at a time .\n",
    "3-2. Greetings: Start with the list you used in Exercise 3-1, but instead of just \n",
    "printing each person’s name, print a message to them . The text of each mes-sage should be the same, but each message should be personalized with the \n",
    "person’s name .\n",
    "3-3. Your Own List: Think of your favorite mode of transportation, such as a \n",
    "motorcycle or a car, and make a list that stores several examples . Use your list \n",
    "to print a series of statements about these items, such as “I would like to own a \n",
    "Honda motorcycle .”"
   ]
  },
  {
   "cell_type": "code",
   "execution_count": 12,
   "metadata": {
    "collapsed": false
   },
   "outputs": [
    {
     "name": "stdout",
     "output_type": "stream",
     "text": [
      "['Madhukar', 'Jeevan', 'Vinny']\n",
      "Madhukar Jeevan Vinny\n",
      "Hi Madhukar, How are you?\n",
      "Hi Jeevan, How are you?\n",
      "Hi Vinny, How are you?\n",
      "I would like to own a Motorcycle\n"
     ]
    }
   ],
   "source": [
    "frnd = ['Madhukar','Jeevan','Vinny']\n",
    "print frnd\n",
    "print frnd[0]+ ' '+frnd[1]+' '+frnd[2]\n",
    "\n",
    "print (\"Hi \"+frnd[-3].title()+\", How are you?\")\n",
    "print (\"Hi \"+frnd[1].title()+\", How are you?\")\n",
    "print (\"Hi \"+frnd[2].title()+\", How are you?\")\n",
    "\n",
    "vehicle = ['Bike','Motorcycle','Car']\n",
    "print (\"I would like to own a \"+ vehicle[1])"
   ]
  },
  {
   "cell_type": "code",
   "execution_count": 13,
   "metadata": {
    "collapsed": false
   },
   "outputs": [
    {
     "name": "stdout",
     "output_type": "stream",
     "text": [
      "['self', 'Jeevan', 'Vinny', 'Chaitu']\n",
      "['self', 'Jeevan', 'Vinny']\n",
      "['Koundinya', 'self', 'Jeevan', 'Vinny']\n",
      "Vinny\n",
      "['Koundinya', 'self', 'Jeevan']\n"
     ]
    }
   ],
   "source": [
    "frnd = ['Madhukar', 'Jeevan', 'Vinny']\n",
    "frnd[0] = 'self'\n",
    "frnd.append('Chaitu') # append, adds the element to the ending of a list\n",
    "print frnd\n",
    "del frnd[3]\n",
    "print frnd\n",
    "\n",
    "frnd.insert(0,'Koundinya') # position to insert and the data\n",
    "print frnd\n",
    "popped_frnd = frnd.pop() ## removes element from top and puts it to use\n",
    "print popped_frnd\n",
    "print frnd"
   ]
  },
  {
   "cell_type": "code",
   "execution_count": 14,
   "metadata": {
    "collapsed": false
   },
   "outputs": [],
   "source": [
    "frnd.append('Vinny')\n",
    "frnd.append('Chaitu')\n"
   ]
  },
  {
   "cell_type": "code",
   "execution_count": 15,
   "metadata": {
    "collapsed": false
   },
   "outputs": [
    {
     "name": "stdout",
     "output_type": "stream",
     "text": [
      "['Koundinya', 'self', 'Jeevan', 'Vinny', 'Chaitu']\n",
      "['Koundinya', 'self', 'Jeevan', 'Vinny', 'Chaitu']\n",
      "['Empty', 'self', 'Jeevan', 'Vinny', 'Chaitu']\n"
     ]
    }
   ],
   "source": [
    "print frnd\n",
    "frnd.insert(4,'Vinny')\n",
    "frnd.remove('Vinny')#if position of the value is unknown, use element data to remove\n",
    "print frnd\n",
    "\n",
    "#modifying elements in list, access using index and change it as in simple arrays\n",
    "frnd[0] = 'Empty';\n",
    "print frnd"
   ]
  },
  {
   "cell_type": "markdown",
   "metadata": {},
   "source": [
    "The following exercises are a bit more complex than those in Chapter 2, but \n",
    "they give you an opportunity to use lists in all of the ways described .\n",
    "3-4. Guest List: If you could invite anyone, living or deceased, to dinner, who \n",
    "would you invite? Make a list that includes at least three people you’d like to \n",
    "invite to dinner . Then use your list to print a message to each person, inviting \n",
    "them to dinner .\n",
    "3-5. Changing Guest List: You just heard that one of your guests can’t make the \n",
    "dinner, so you need to send out a new set of invitations . You’ll have to think of \n",
    "someone else to invite .\n",
    "•\t Start with your program from Exercise 3-4 . Add a print statement at the \n",
    "end of your program stating the name of the guest who can’t make it .\n",
    "•\t Modify your list, replacing the name of the guest who can’t make it with \n",
    "the name of the new person you are inviting .\n",
    "•\t Print a second set of invitation messages, one for each person who is still \n",
    "in your list .\n",
    "3-6. More Guests: You just found a bigger dinner table, so now more space is \n",
    "available . Think of three more guests to invite to dinner .\n",
    "•\t Start with your program from Exercise 3-4 or Exercise 3-5 . Add a print \n",
    "statement to the end of your program informing people that you found a \n",
    "bigger dinner table .\n",
    "•\t Use insert() to add one new guest to the beginning of your list .\n",
    "•\t Use insert() to add one new guest to the middle of your list .\n",
    "•\t Use append() to add one new guest to the end of your list .\n",
    "•\t Print a new set of invitation messages, one for each person in your list .\n",
    "\n",
    "\n",
    "3 -7.  Shrinking Guest List: You just found out that your new dinner table won’t \n",
    "arrive in time for the dinner, and you have space for only two guests .\n",
    "•\t Start with your program from Exercise 3-6 . Add a new line that prints a \n",
    "message saying that you can invite only two people for dinner .\n",
    "•\t Use pop() to remove guests from your list one at a time until only two \n",
    "names remain in your list . Each time you pop a name from your list, print \n",
    "a message to that person letting them know you’re sorry you can’t invite \n",
    "them to dinner .\n",
    "•\t Print a message to each of the two people still on your list, letting them \n",
    "know they’re still invited .\n",
    "•\t Use del to remove the last two names from your list, so you have an empty \n",
    "list . Print your list to make sure you actually have an empty list at the end \n",
    "of your program ."
   ]
  },
  {
   "cell_type": "code",
   "execution_count": 16,
   "metadata": {
    "collapsed": false
   },
   "outputs": [
    {
     "name": "stdout",
     "output_type": "stream",
     "text": [
      "['Jeevan', 'Vinny', 'Chaitu']\n",
      "Chaitu said he couldn't make it.\n",
      "New Invitation list Jeevan Vinny Koundi\n",
      "Found a bigger table, so we can have two more guest\n",
      "['CHaitu', 'Jeevan', 'Vinny', 'Koundi', 'Sravan']\n",
      "\n",
      "Sorry for the confusion, the table will not arrive in time.\n",
      "Sorry Sravan , I will invite you next time.\n",
      "None\n",
      "\n",
      "Permanenet Sorting\n",
      "['CHaitu', 'Jeevan', 'Vinny']\n",
      "['Vinny', 'Jeevan', 'CHaitu']\n",
      "\n",
      "Temporary Sorting\n",
      "['CHaitu', 'Jeevan', 'Vinny']\n",
      "Original List -> \n",
      "['Vinny', 'Jeevan', 'CHaitu']\n",
      "I invited 3 people to dinner.\n"
     ]
    }
   ],
   "source": [
    "guest_list = ['Jeevan','Vinny','Chaitu']\n",
    "print guest_list\n",
    "print(guest_list[2]+\" said he couldn't make it.\")\n",
    "guest_list.pop(2)\n",
    "guest_list.append('Koundi')\n",
    "print(\"New Invitation list \"+ guest_list[0] +\" \"+ guest_list[1] +\" \"+ guest_list[2])\n",
    "print(\"Found a bigger table, so we can have two more guest\")\n",
    "guest_list.insert(0,'CHaitu')\n",
    "guest_list.append('Sravan')\n",
    "print guest_list\n",
    "print\n",
    "print \"Sorry for the confusion, the table will not arrive in time.\"\n",
    "print \"Sorry \"+guest_list.pop() +\" , I will invite you next time.\"\n",
    "print guest_list.remove('Koundi')\n",
    "print \n",
    "print \"Permanenet Sorting\".title()\n",
    "guest_list.sort()\n",
    "print guest_list\n",
    "guest_list.sort(reverse=True)\n",
    "print guest_list\n",
    "print\n",
    "print \"temporary sorting\".title()\n",
    "print sorted(guest_list) #sorts but temporarily\n",
    "\n",
    "print \"Original List -> \"\n",
    "print guest_list\n",
    "\n",
    "#length of the list\n",
    "print \"I invited \"+ str(len(guest_list)) +\" people to dinner.\""
   ]
  },
  {
   "cell_type": "raw",
   "metadata": {},
   "source": [
    "3-8. Seeing the World: Think of at least five places in the world you’d like to \n",
    "visit .\n",
    "•\t Store the locations in a list . Make sure the list is not in alphabetical order .\n",
    "•\t Print your list in its original order . Don’t worry about printing the list neatly, \n",
    "just print it as a raw Python list .\n",
    "•\t Use sorted() to print your list in alphabetical order without modifying the \n",
    "actual list .\n",
    "•\t Show that your list is still in its original order by printing it .\n",
    "•\t Use sorted() to print your list in reverse alphabetical order without chang-ing the order of the original list .\n",
    "•\t Show that your list is still in its original order by printing it again .\n",
    "•\t Use reverse() to change the order of your list . Print the list to show that its \n",
    "order has changed .\n",
    "•\t Use reverse() to change the order of your list again . Print the list to show \n",
    "it’s back to its original order .\n",
    "•\t Use sort() to change your list so it’s stored in alphabetical order . Print the \n",
    "list to show that its order has been changed .\n",
    "•\t Use sort() to change your list so it’s stored in reverse alphabetical order . \n",
    "Print the list to show that its order has changed .\n",
    "3-9. Dinner Guests: Working with one of the programs from Exercises 3-4 \n",
    "through 3-7 (page 46), use len() to print a message indicating the number \n",
    "of people you are inviting to dinner .\n",
    "3-10. Every Function: Think of something you could store in a list . For example, \n",
    "you could make a list of mountains, rivers, countries, cities, languages, or any-thing else you’d like . Write a program that creates a list containing these items \n",
    "and then uses each function introduced in this chapter at least once ."
   ]
  },
  {
   "cell_type": "code",
   "execution_count": 17,
   "metadata": {
    "collapsed": false,
    "scrolled": true
   },
   "outputs": [
    {
     "name": "stdout",
     "output_type": "stream",
     "text": [
      "['Shimla', 'Vasco', 'Paris', 'Cape Town', 'Yosimite', 'Agra']\n",
      "Sorted order: \n",
      "['Agra', 'Cape Town', 'Paris', 'Shimla', 'Vasco', 'Yosimite']\n",
      "['Shimla', 'Vasco', 'Paris', 'Cape Town', 'Yosimite', 'Agra']\n",
      "['Agra', 'Yosimite', 'Cape Town', 'Paris', 'Vasco', 'Shimla']\n",
      "['Shimla', 'Vasco', 'Paris', 'Cape Town', 'Yosimite', 'Agra']\n",
      "['Agra', 'Cape Town', 'Paris', 'Shimla', 'Vasco', 'Yosimite']\n",
      "['Yosimite', 'Vasco', 'Shimla', 'Paris', 'Cape Town', 'Agra']\n",
      "inviting to dinner ->3\n"
     ]
    }
   ],
   "source": [
    "places = ['Shimla','Vasco','Paris','Cape Town','Yosimite','Agra']\n",
    "print places\n",
    "print \"Sorted order: \"\n",
    "print sorted(places)\n",
    "print places #Printing the original order\n",
    "places.reverse()# Will not change the sort of the list, just reverses the list\n",
    "print places\n",
    "places.reverse()\n",
    "print places #Printing the original order\n",
    "\n",
    "places.sort();\n",
    "print places;\n",
    "places.sort(reverse=True)\n",
    "print places;\n",
    "\n",
    "\n",
    "#3.9 \n",
    "print \"inviting to dinner ->\"+str(len(guest_list))\n"
   ]
  },
  {
   "cell_type": "code",
   "execution_count": 18,
   "metadata": {
    "collapsed": false
   },
   "outputs": [
    {
     "name": "stdout",
     "output_type": "stream",
     "text": [
      "I'd like to visit the following places:\n",
      "Yosimite\n",
      "Vasco\n",
      "Shimla\n",
      "Paris\n",
      "Cape Town\n",
      "Agra\n"
     ]
    }
   ],
   "source": [
    "#Looping\n",
    "print(\"I'd like to visit the following places:\")\n",
    "for place in places:\n",
    "    print(place)\n",
    "\n"
   ]
  },
  {
   "cell_type": "raw",
   "metadata": {},
   "source": [
    "4-1. Pizzas: Think of at least three kinds of your favorite pizza . Store these \n",
    "pizza names in a list, and then use a for loop to print the name of each pizza .\n",
    "•\t Modify your for loop to print a sentence using the name of the pizza \n",
    "instead of printing just the name of the pizza . For each pizza you should \n",
    "have one line of output containing a simple statement like I like pepperoni \n",
    "pizza .\n",
    "•\t Add a line at the end of your program, outside the for loop, that states \n",
    "how much you like pizza . The output should consist of three or more lines \n",
    "about the kinds of pizza you like and then an additional sentence, such as \n",
    "I really love pizza!\n",
    "4-2. Animals: Think of at least three different animals that have a common char-\n",
    "acteristic . Store the names of these animals in a list, and then use a for loop to \n",
    "print out the name of each animal .\n",
    "•\t Modify your program to print a statement about each animal, such as \n",
    "A dog would make a great pet.\n",
    "•\t Add a line at the end of your program stating what these animals have in \n",
    "common . You could print a sentence such as Any of these animals would \n",
    "make a great pet!"
   ]
  },
  {
   "cell_type": "code",
   "execution_count": 20,
   "metadata": {
    "collapsed": false
   },
   "outputs": [
    {
     "name": "stdout",
     "output_type": "stream",
     "text": [
      "Farmhouse\n",
      "Pepperoni\n",
      "Veg Exotica\n",
      "I really like flat bread pizza!!\n",
      "\n",
      "\n",
      "A Cat is a great pet\n",
      "A Tiger is a great pet\n",
      "A Lion is a great pet\n",
      "These animals belong to Felidae family of species\n"
     ]
    }
   ],
   "source": [
    "pizzas = ['Farmhouse','Pepperoni','Veg Exotica']\n",
    "for pizza in pizzas:\n",
    "    print pizza\n",
    "print(\"I really like flat bread pizza!!\\n\\n\")\n",
    "\n",
    "animals = ['Cat','Tiger','Lion']\n",
    "for animal in animals:\n",
    "    print(\"A \"+animal+\" is a great pet\")\n",
    "print(\"These animals belong to Felidae family of species\")\n"
   ]
  },
  {
   "cell_type": "raw",
   "metadata": {},
   "source": [
    "4-3. Counting to Twenty: Use a for loop to print the numbers from 1 to 20, \n",
    "inclusive .\n",
    "4-4. One Million: Make a list of the numbers from one to one million, and then \n",
    "use a for loop to print the numbers . (If the output is taking too long, stop it by \n",
    "pressing c tr l-C or by closing the output window .)\n",
    "4-5. Summing a Million: Make a list of the numbers from one to one million, \n",
    "and then use min() and max() to make sure your list actually starts at one and \n",
    "ends at one million . Also, use the sum() function to see how quickly Python can \n",
    "add a million numbers .\n",
    "4-6. Odd Numbers: Use the third argument of the range() function to make a list \n",
    "of the odd numbers from 1 to 20 . Use a for loop to print each number .\n",
    "4 -7.  Threes: Make a list of the multiples of 3 from 3 to 30 . Use a for loop to \n",
    "print the numbers in your list .\n",
    "4-8. Cubes: A number raised to the third power is called a cube . For example, \n",
    "the cube of 2 is written as 2**3 in Python . Make a list of the first 10 cubes (that \n",
    "is, the cube of each integer from 1 through 10), and use a for loop to print out \n",
    "the value of each cube .\n",
    "4-9. Cube Comprehension: Use a list comprehension to generate a list of the \n",
    "first 10 cubes ."
   ]
  },
  {
   "cell_type": "code",
   "execution_count": 44,
   "metadata": {
    "collapsed": false
   },
   "outputs": [
    {
     "name": "stdout",
     "output_type": "stream",
     "text": [
      "1\n",
      "2\n",
      "3\n",
      "4\n",
      "5\n",
      "6\n",
      "7\n",
      "8\n",
      "9\n",
      "10\n",
      "1\n",
      "999999\n",
      "499999500000\n",
      "1,3,5,7,9,11,13,15,17,19,\n",
      "3,6,9,12,15,18,21,24,27,30,\n",
      "1,8,27,64,125,216,343,512,729,1000,\n",
      "[1, 8, 27, 64, 125, 216, 343, 512, 729, 1000]\n"
     ]
    }
   ],
   "source": [
    "#4.3\n",
    "for i in range(1,11):\n",
    "    print i\n",
    "#4.4 ruins the output, hence omitting it.\n",
    "#4.5\n",
    "numbers = list(range(1,1000000))\n",
    "print min(numbers)\n",
    "print max(numbers) #Max of the list\n",
    "print sum(numbers) #Summation of all the digits from 1 to 1m\n",
    "\n",
    "#4.6 Odd numbers\n",
    "odd=\"\"\n",
    "for i in range(1,20,2):\n",
    "    odd = odd+str(i)+\",\"\n",
    "\n",
    "print odd\n",
    "\n",
    "#4.7 3's table\n",
    "three_table = range(3,31,3)\n",
    "print_string=\"\";\n",
    "for i in three_table:\n",
    "    print_string = print_string+str(i)+\",\"\n",
    "print print_string\n",
    "\n",
    "#4.8 Cubes of 1 to 10\n",
    "cubes = []\n",
    "for i in range(1,11):\n",
    "    cubes.append(i**3)\n",
    "#print cubes\n",
    "print_string = \"\"\n",
    "for i in cubes:\n",
    "    print_string = print_string+str(i)+\",\"\n",
    "print print_string\n",
    "cubes = []\n",
    "\n",
    "#4.9 List comprehension\n",
    "cubes_lc = [value**3 for value in range(1,11)]\n",
    "\n",
    "print cubes_lc"
   ]
  },
  {
   "cell_type": "raw",
   "metadata": {},
   "source": [
    "#Slicing of the lists\n",
    "4-10. Slices: Using one of the programs you wrote in this chapter, add several \n",
    "lines to the end of the program that do the following:\n",
    "•\t Print the message, The first three items in the list are: . Then use a slice to \n",
    "print the first three items from that program’s list .\n",
    "•\t Print the message, Three items from the middle of the list are: . Use a slice \n",
    "to print three items from the middle of the list .\n",
    "•\t Print the message, The last three items in the list are: . Use a slice to print \n",
    "the last three items in the list .\n",
    "4 -11.  My Pizzas, Your Pizzas: Start with your program from Exercise 4-1 \n",
    "(page 60) . Make a copy of the list of pizzas, and call it friend_pizzas . \n",
    "Then, do the following:\n",
    "•\t Add a new pizza to the original list .\n",
    "•\t Add a different pizza to the list friend_pizzas .\n",
    "•\t Prove that you have two separate lists . Print the message, My favorite \n",
    "pizzas are:, and then use a for loop to print the first list . Print the message, \n",
    "My friend’s favorite pizzas are:, and then use a for loop to print the sec-\n",
    "ond list . Make sure each new pizza is stored in the appropriate list .\n",
    "4-12. More Loops: All versions of foods.py in this section have avoided using \n",
    "for loops when printing to save space . Choose a version of foods.py, and \n",
    "write two for loops to print each list of foods ."
   ]
  },
  {
   "cell_type": "code",
   "execution_count": 56,
   "metadata": {
    "collapsed": false
   },
   "outputs": [
    {
     "name": "stdout",
     "output_type": "stream",
     "text": [
      "The first three items in the list are: \n",
      "['Idli', 'Dosa', 'Chat']\n",
      "The last three items in the list are: \n",
      "['Dosa', 'Chat', 'Vangibaat']\n",
      "My favorite pizzas are\n",
      "Farmhouse,Veg Exotica,Pepperoni,Chicken Tikka,Double Cheese,\n",
      "\n",
      "My friend's favorite pizzas are\n",
      "Farmhouse,Veg Exotica,Pepperoni,Chicken Tikka,Pineapple,\n"
     ]
    }
   ],
   "source": [
    "#4.10\n",
    "my_food = ['Idli','Dosa','Chat','Vangibaat']\n",
    "print(\"The first three items in the list are: \")\n",
    "print(my_food[:3])\n",
    "print(\"The last three items in the list are: \")\n",
    "print(my_food[-3:])\n",
    "\n",
    "#4.11\n",
    "print_string=\"\"\n",
    "my_pizzas = ['Farmhouse','Veg Exotica','Pepperoni','Chicken Tikka']\n",
    "friends_pizzas = my_pizzas[:]\n",
    "my_pizzas.insert(4,'Double Cheese')\n",
    "friends_pizzas.insert(4,'Pineapple')\n",
    "print(\"My favorite pizzas are\")\n",
    "for pizza in my_pizzas:\n",
    "    print_string = print_string+pizza+\",\"\n",
    "print print_string\n",
    "print(\"\\nMy friend's favorite pizzas are\")\n",
    "print_string = \"\"\n",
    "for pizza in friends_pizzas:\n",
    "    print_string = print_string+pizza+\",\"\n",
    "print(print_string)\n",
    "\n"
   ]
  },
  {
   "cell_type": "markdown",
   "metadata": {},
   "source": [
    "# Tuples \n",
    "Tupples allow you to do just that. Python refers to values that cannot \n",
    "change as immutable, and an immutable list is called a tuple."
   ]
  },
  {
   "cell_type": "raw",
   "metadata": {},
   "source": [
    "4-13. Buffet: A buffet-style restaurant offers only five basic foods . Think of five \n",
    "simple foods, and store them in a tuple .\n",
    "•\t Use a for loop to print each food the restaurant offers .\n",
    "•\t Try to modify one of the items, and make sure that Python rejects the \n",
    "change .\n",
    "•\t The restaurant changes its menu, replacing two of the items with different \n",
    "foods . Add a block of code that rewrites the tuple, and then use a for \n",
    "loop to print each of the items on the revised menu ."
   ]
  },
  {
   "cell_type": "code",
   "execution_count": 59,
   "metadata": {
    "collapsed": false
   },
   "outputs": [
    {
     "name": "stdout",
     "output_type": "stream",
     "text": [
      "Tandoori Chickecn\n",
      "Naan\n",
      "Butter Chicken\n",
      "Biryani\n",
      "Yogurt\n",
      "Tandoori Chickecn\n",
      "Naan\n",
      "Butter Chicken\n",
      "Mutton Biryani\n",
      "Kheer\n"
     ]
    }
   ],
   "source": [
    "buffet = ('Tandoori Chickecn','Naan','Butter Chicken','Biryani','Yogurt')\n",
    "for item in buffet:\n",
    "    print item\n",
    "#buffet[2] = 'Kheer'\n",
    "buffet = ('Tandoori Chickecn','Naan','Butter Chicken','Mutton Biryani','Kheer')\n",
    "for item in buffet:\n",
    "    print item"
   ]
  }
 ],
 "metadata": {
  "anaconda-cloud": {},
  "kernelspec": {
   "display_name": "Python [default]",
   "language": "python",
   "name": "python2"
  },
  "language_info": {
   "codemirror_mode": {
    "name": "ipython",
    "version": 2
   },
   "file_extension": ".py",
   "mimetype": "text/x-python",
   "name": "python",
   "nbconvert_exporter": "python",
   "pygments_lexer": "ipython2",
   "version": "2.7.12"
  }
 },
 "nbformat": 4,
 "nbformat_minor": 1
}
